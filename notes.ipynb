{
 "cells": [
  {
   "cell_type": "code",
   "execution_count": 2,
   "metadata": {
    "collapsed": true
   },
   "outputs": [],
   "source": [
    "\n",
    "\n",
    "\n"
   ]
  },
  {
   "cell_type": "code",
   "execution_count": 2,
   "metadata": {},
   "outputs": [],
   "source": [
    "# open the json file\n",
    "import json\n",
    "\n",
    "with open('message.json') as f:\n",
    "    data = json.load(f)\n",
    "\n"
   ]
  },
  {
   "cell_type": "code",
   "execution_count": 1,
   "metadata": {},
   "outputs": [],
   "source": [
    "def messageParse(message):\n",
    "    message = message.replace(\"\\u00c3\\u00b0\", \"ð\")\n",
    "    message = message.replace(\"\\u00c3\\u00b0\", \"ð\")\n",
    "    \n",
    "    message = message.replace(\"\\u00c3\\u00ad\", \"í\")\n",
    "    \n",
    "    message = message.replace(\"\\u00c3\\u00b3\", \"ó\")\n",
    "    message = message.replace(\"\\u00c3\\u0093\", \"Ó\")\n",
    "    \n",
    "    message = message.replace(\"\\u00c3\\u00a6\", \"æ\")\n",
    "    \n",
    "    message = message.replace(\"\\u00c3\\u00a9\", \"é\")\n",
    "    \n",
    "    message = message.replace(\"\\u00c3\\u00ba\", \"ú\")\n",
    "    \n",
    "    message = message.replace(\"\\u00c3\\u00be\", \"þ\")\n",
    "    message = message.replace(\"\\u00c3\\u009e\", \"þ\")\n",
    "    \n",
    "    message = message.replace(\"\\u00c3\\u00a1\", \"á\")\n",
    "    message = message.replace(\"\\u00c2\\u00b4\", \"á\")\n",
    "    \n",
    "    message = message.replace(\"\\u00c3\\u00bd\", \"ý\")\n",
    "    message = message.replace(\"\\u00c3\\u009d\", \"ý\")\n",
    "    \n",
    "    message = message.replace(\"\\u00c3\\u00b6\", \"ö\")\n",
    "    \n",
    "    return message\n",
    "    \n",
    "        \n",
    "        \n",
    "    "
   ]
  },
  {
   "cell_type": "code",
   "execution_count": 2,
   "metadata": {},
   "outputs": [],
   "source": [
    "def createMessageList(data, tmpDict):\n",
    "    # Iterate all messages\n",
    "    next = False\n",
    "    index = len(tmpDict[\"timestamp_recieved\"])\n",
    "    \n",
    "    for message in data[\"messages\"]:\n",
    "        if next:\n",
    "            if \"sender_name\" in message:\n",
    "                if not message[\"sender_name\"] == \"Vilhjalmur R. Vilhjalmsson\":    \n",
    "                    tmpDict[\"timestamp_recieved\"][str(index)] = message[\"timestamp_ms\"]\n",
    "                    tmpDict[\"content_recieved\"][str(index)] = message[\"content\"]\n",
    "                    index += 1\n",
    "                \n",
    "                next = False\n",
    "        \n",
    "        if \"sender_name\" in message:\n",
    "            if (message['sender_name'] == \"Vilhjalmur R. Vilhjalmsson\"):\n",
    "                if (('content' in message) and ('timestamp_ms' in message)):\n",
    "                    next = True\n",
    "                    tmpDict[\"timestamp_send\"][str(index)] = message[\"timestamp_ms\"]\n",
    "                    tmpDict[\"content_sent\"][str(index)] = message[\"content\"]\n",
    "            \n",
    "  \n",
    "    return tmpDict\n"
   ]
  },
  {
   "cell_type": "code",
   "execution_count": 4,
   "metadata": {},
   "outputs": [
    {
     "ename": "NameError",
     "evalue": "name 'outData' is not defined",
     "traceback": [
      "\u001b[0;31m---------------------------------------------------------------------------\u001b[0m",
      "\u001b[0;31mNameError\u001b[0m                                 Traceback (most recent call last)",
      "\u001b[0;32m<ipython-input-4-d29edfe29aa8>\u001b[0m in \u001b[0;36m<module>\u001b[0;34m\u001b[0m\n\u001b[1;32m      1\u001b[0m \u001b[0;31m# write to json\u001b[0m\u001b[0;34m\u001b[0m\u001b[0;34m\u001b[0m\u001b[0m\n\u001b[1;32m      2\u001b[0m \u001b[0;32mwith\u001b[0m \u001b[0mopen\u001b[0m\u001b[0;34m(\u001b[0m\u001b[0;34m'data.json'\u001b[0m\u001b[0;34m,\u001b[0m \u001b[0;34m'w'\u001b[0m\u001b[0;34m)\u001b[0m \u001b[0;32mas\u001b[0m \u001b[0mout\u001b[0m\u001b[0;34m:\u001b[0m\u001b[0;34m\u001b[0m\u001b[0m\n\u001b[0;32m----> 3\u001b[0;31m     \u001b[0mjson\u001b[0m\u001b[0;34m.\u001b[0m\u001b[0mdump\u001b[0m\u001b[0;34m(\u001b[0m\u001b[0moutData\u001b[0m\u001b[0;34m,\u001b[0m \u001b[0mout\u001b[0m\u001b[0;34m)\u001b[0m\u001b[0;34m\u001b[0m\u001b[0m\n\u001b[0m",
      "\u001b[0;31mNameError\u001b[0m: name 'outData' is not defined"
     ],
     "output_type": "error"
    }
   ],
   "source": [
    "# write to json\n",
    "with open('data.json', 'w') as out:\n",
    "    json.dump(outData, out)"
   ]
  },
  {
   "cell_type": "code",
   "execution_count": 17,
   "metadata": {},
   "outputs": [],
   "source": [
    "import os\n",
    "\n",
    "fullList = { \"timestamp_recieved\": {}, \"content_recieved\": {}, \"timestamp_send\": {}, \"content_sent\": {} }\n",
    "index = 0\n",
    "\n",
    "root_path = os.path.abspath(os.path.curdir)\n",
    "at_path = os.path.join(root_path, u'data/messages/archived_threads')\n",
    "inbox_path = os.path.join(root_path, u'data/messages/inbox')\n",
    "\n",
    "for dir in os.listdir(at_path):\n",
    "    tmp_path = os.path.join(at_path, dir)\n",
    "    if(os.path.exists(os.path.join(tmp_path, u'message.json'))):\n",
    "        tmp_file = os.path.join(tmp_path, u'message.json')\n",
    "        with open(str(tmp_file)) as f:\n",
    "            data = json.load(f)\n",
    "            fullList = createMessageList(data, fullList)\n",
    "\n",
    "for dir in os.listdir(inbox_path):\n",
    "    tmp_path = os.path.join(inbox_path, dir)\n",
    "    if(os.path.exists(os.path.join(tmp_path, u'message.json'))):\n",
    "        tmp_file = os.path.join(tmp_path, u'message.json')\n",
    "        with open(str(tmp_file)) as f:\n",
    "            data = json.load(f)\n",
    "            fullList = createMessageList(data, fullList)\n",
    "\n",
    "\n",
    "with open('data/data.json', 'w') as out:\n",
    "    json.dump(fullList, out)\n"
   ]
  },
  {
   "cell_type": "code",
   "execution_count": 3,
   "metadata": {},
   "outputs": [
    {
     "name": "stdout",
     "output_type": "stream",
     "text": [
      "Dataset length: 6826\n"
     ]
    }
   ],
   "source": [
    "# The datasets\n",
    "import pandas as pd\n",
    "\n",
    "dataset = pd.read_json('data/data.json')\n",
    "#with open('data.json', 'rU') as f:\n",
    "#    pd.read_json(data)\n",
    "\n",
    "print(\"Dataset length: \" + str(len(dataset)))\n",
    "dataset = dataset.drop(columns=[\"timestamp_send\", \"timestamp_recieved\"], axis=1)\n"
   ]
  },
  {
   "cell_type": "code",
   "execution_count": 9,
   "metadata": {},
   "outputs": [
    {
     "name": "stdout",
     "output_type": "stream",
     "text": [
      "Nei því miður! :/ Ertu búinn að athuga já.is?\n"
     ]
    }
   ],
   "source": [
    "input_words = set()\n",
    "target_words = set()\n",
    "\n",
    "for index, row in dataset.iterrows():\n",
    "    "
   ]
  },
  {
   "cell_type": "code",
   "execution_count": 58,
   "metadata": {},
   "outputs": [],
   "source": []
  },
  {
   "cell_type": "code",
   "execution_count": null,
   "metadata": {},
   "outputs": [],
   "source": [
    "from keras.models import Model\n",
    "from keras.layers import Input, LSTM, Dense\n",
    "\n",
    "# variables\n",
    "num_encoder_tokens = 0\n",
    "latent_dim = 0\n",
    "\n",
    "# Define an input sequence and process it.\n",
    "encoder_inputs = Input(shape=(None, num_encoder_tokens))\n",
    "encoder = LSTM(latent_dim, return_state=True)\n",
    "encoder_outputs, state_h, state_c = encoder(encoder_inputs)\n",
    "# We discard `encoder_outputs` and only keep the states.\n",
    "encoder_states = [state_h, state_c]"
   ]
  }
 ],
 "metadata": {
  "kernelspec": {
   "display_name": "Python 2",
   "language": "python",
   "name": "python2"
  },
  "language_info": {
   "codemirror_mode": {
    "name": "ipython",
    "version": 2
   },
   "file_extension": ".py",
   "mimetype": "text/x-python",
   "name": "python",
   "nbconvert_exporter": "python",
   "pygments_lexer": "ipython2",
   "version": "2.7.6"
  }
 },
 "nbformat": 4,
 "nbformat_minor": 0
}
