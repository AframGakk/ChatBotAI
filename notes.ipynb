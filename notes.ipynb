{
 "cells": [
  {
   "cell_type": "code",
   "execution_count": 1,
   "metadata": {
    "collapsed": true
   },
   "outputs": [
    {
     "name": "stderr",
     "output_type": "stream",
     "text": [
      "Using TensorFlow backend.\n"
     ]
    }
   ],
   "source": [
    "import numpy as np\n",
    "import pandas as pd\n",
    "from keras.models import Model\n",
    "from keras.layers import Input, LSTM, Dense\n",
    "\n"
   ]
  },
  {
   "cell_type": "code",
   "execution_count": 2,
   "metadata": {},
   "outputs": [],
   "source": [
    "# open the json file\n",
    "import json\n",
    "\n",
    "with open('message.json') as f:\n",
    "    data = json.load(f)\n",
    "\n"
   ]
  },
  {
   "cell_type": "code",
   "execution_count": null,
   "metadata": {},
   "outputs": [],
   "source": [
    "def messageParse(message):\n",
    "    message = message.replace(\"\\u00c3\\u00b0\", \"ð\")\n",
    "    message = message.replace(\"\\u00c3\\u00b0\", \"ð\")\n",
    "    \n",
    "    message = message.replace(\"\\u00c3\\u00ad\", \"í\")\n",
    "    \n",
    "    message = message.replace(\"\\u00c3\\u00b3\", \"ó\")\n",
    "    message = message.replace(\"\\u00c3\\u0093\", \"Ó\")\n",
    "    \n",
    "    message = message.replace(\"\\u00c3\\u00a6\", \"æ\")\n",
    "    \n",
    "    message = message.replace(\"\\u00c3\\u00a9\", \"é\")\n",
    "    \n",
    "    message = message.replace(\"\\u00c3\\u00ba\", \"ú\")\n",
    "    \n",
    "    message = message.replace(\"\\u00c3\\u00be\", \"þ\")\n",
    "    message = message.replace(\"\\u00c3\\u009e\", \"þ\")\n",
    "    \n",
    "    message = message.replace(\"\\u00c3\\u00a1\", \"á\")\n",
    "    message = message.replace(\"\\u00c2\\u00b4\", \"á\")\n",
    "    \n",
    "    message = message.replace(\"\\u00c3\\u00bd\", \"ý\")\n",
    "    message = message.replace(\"\\u00c3\\u009d\", \"ý\")\n",
    "    \n",
    "    message = message.replace(\"\\u00c3\\u00b6\", \"ö\")\n",
    "    \n",
    "    return message\n",
    "    \n",
    "        \n",
    "        \n",
    "    "
   ]
  },
  {
   "cell_type": "code",
   "execution_count": 1,
   "metadata": {},
   "outputs": [],
   "source": [
    "def createMessageList(data, tmpDict):\n",
    "    # Iterate all messages\n",
    "    next = False\n",
    "    index = len(tmpDict[\"timestamp_recieved\"])\n",
    "    \n",
    "    for message in data[\"messages\"]:\n",
    "        if next:\n",
    "            if \"sender_name\" in message:\n",
    "                if not message[\"sender_name\"] == \"Vilhjalmur R. Vilhjalmsson\":    \n",
    "                    tmpDict[\"timestamp_recieved\"][str(index)] = message[\"timestamp_ms\"]\n",
    "                    tmpDict[\"content_recieved\"][str(index)] = message[\"content\"]\n",
    "                    index += 1\n",
    "                \n",
    "                next = False\n",
    "        \n",
    "        if \"sender_name\" in message:\n",
    "            if (message['sender_name'] == \"Vilhjalmur R. Vilhjalmsson\"):\n",
    "                if (('content' in message) and ('timestamp_ms' in message)):\n",
    "                    next = True\n",
    "                    tmpDict[\"timestamp_send\"][str(index)] = message[\"timestamp_ms\"]\n",
    "                    tmpDict[\"content_sent\"][str(index)] = message[\"content\"]\n",
    "            \n",
    "  \n",
    "    return tmpDict\n"
   ]
  },
  {
   "cell_type": "code",
   "execution_count": 4,
   "metadata": {},
   "outputs": [
    {
     "ename": "NameError",
     "evalue": "name 'outData' is not defined",
     "traceback": [
      "\u001b[0;31m---------------------------------------------------------------------------\u001b[0m",
      "\u001b[0;31mNameError\u001b[0m                                 Traceback (most recent call last)",
      "\u001b[0;32m<ipython-input-4-d29edfe29aa8>\u001b[0m in \u001b[0;36m<module>\u001b[0;34m\u001b[0m\n\u001b[1;32m      1\u001b[0m \u001b[0;31m# write to json\u001b[0m\u001b[0;34m\u001b[0m\u001b[0;34m\u001b[0m\u001b[0m\n\u001b[1;32m      2\u001b[0m \u001b[0;32mwith\u001b[0m \u001b[0mopen\u001b[0m\u001b[0;34m(\u001b[0m\u001b[0;34m'data.json'\u001b[0m\u001b[0;34m,\u001b[0m \u001b[0;34m'w'\u001b[0m\u001b[0;34m)\u001b[0m \u001b[0;32mas\u001b[0m \u001b[0mout\u001b[0m\u001b[0;34m:\u001b[0m\u001b[0;34m\u001b[0m\u001b[0m\n\u001b[0;32m----> 3\u001b[0;31m     \u001b[0mjson\u001b[0m\u001b[0;34m.\u001b[0m\u001b[0mdump\u001b[0m\u001b[0;34m(\u001b[0m\u001b[0moutData\u001b[0m\u001b[0;34m,\u001b[0m \u001b[0mout\u001b[0m\u001b[0;34m)\u001b[0m\u001b[0;34m\u001b[0m\u001b[0m\n\u001b[0m",
      "\u001b[0;31mNameError\u001b[0m: name 'outData' is not defined"
     ],
     "output_type": "error"
    }
   ],
   "source": [
    "# write to json\n",
    "with open('data.json', 'w') as out:\n",
    "    json.dump(outData, out)"
   ]
  },
  {
   "cell_type": "code",
   "execution_count": 17,
   "metadata": {},
   "outputs": [],
   "source": [
    "import os\n",
    "\n",
    "fullList = { \"timestamp_recieved\": {}, \"content_recieved\": {}, \"timestamp_send\": {}, \"content_sent\": {} }\n",
    "index = 0\n",
    "\n",
    "root_path = os.path.abspath(os.path.curdir)\n",
    "at_path = os.path.join(root_path, u'data/messages/archived_threads')\n",
    "inbox_path = os.path.join(root_path, u'data/messages/inbox')\n",
    "\n",
    "for dir in os.listdir(at_path):\n",
    "    tmp_path = os.path.join(at_path, dir)\n",
    "    if(os.path.exists(os.path.join(tmp_path, u'message.json'))):\n",
    "        tmp_file = os.path.join(tmp_path, u'message.json')\n",
    "        with open(str(tmp_file)) as f:\n",
    "            data = json.load(f)\n",
    "            fullList = createMessageList(data, fullList)\n",
    "\n",
    "for dir in os.listdir(inbox_path):\n",
    "    tmp_path = os.path.join(inbox_path, dir)\n",
    "    if(os.path.exists(os.path.join(tmp_path, u'message.json'))):\n",
    "        tmp_file = os.path.join(tmp_path, u'message.json')\n",
    "        with open(str(tmp_file)) as f:\n",
    "            data = json.load(f)\n",
    "            fullList = createMessageList(data, fullList)\n",
    "\n",
    "\n",
    "with open('data/data.json', 'w') as out:\n",
    "    json.dump(fullList, out)\n"
   ]
  },
  {
   "cell_type": "code",
   "execution_count": 2,
   "metadata": {},
   "outputs": [
    {
     "name": "stdout",
     "output_type": "stream",
     "text": [
      "Dataset length: 6826\n"
     ]
    }
   ],
   "source": [
    "# The datasets\n",
    "\n",
    "\n",
    "dataset = pd.read_json('data/data.json')\n",
    "#with open('data.json', 'rU') as f:\n",
    "#    pd.read_json(data)\n",
    "\n",
    "print(\"Dataset length: \" + str(len(dataset)))\n",
    "dataset = dataset.drop(columns=[\"timestamp_send\", \"timestamp_recieved\"], axis=1)\n"
   ]
  },
  {
   "cell_type": "code",
   "execution_count": 3,
   "metadata": {},
   "outputs": [
    {
     "name": "stdout",
     "output_type": "stream",
     "text": [
      "Number of samples: 6826\nNumber of unique input tokens: 14019\nNumber of unique output tokens: 11912\nMax sequence length for inputs: 4119\nMax sequence length for outputs: 1261\n"
     ]
    }
   ],
   "source": [
    "latent_dim = 256  # Latent dimensionality of the encoding space.\n",
    "batch_size = 64\n",
    "epochs = 1 # 100\n",
    "\n",
    "input_texts = []\n",
    "target_texts = []\n",
    "input_words = set()\n",
    "target_words = set()\n",
    "i = 0\n",
    "\n",
    "for index, row in dataset.iterrows():\n",
    "    input_text = row[\"content_recieved\"].split()\n",
    "    input_texts.append(row[\"content_recieved\"])\n",
    "    for word in input_text:\n",
    "        input_words.add(word)\n",
    "    target_text = row[\"content_sent\"].split()\n",
    "    target_texts.append(row[\"content_sent\"])\n",
    "    for word in target_text:\n",
    "        target_words.add(word)\n",
    "\n",
    "word_list = list(input_words)\n",
    "target_list = list(target_words)\n",
    "num_encoder_tokens = len(word_list)\n",
    "num_decoder_tokens = len(target_list)\n",
    "max_encoder_seq_length = max([len(txt) for txt in input_texts])\n",
    "max_decoder_seq_length = max([len(txt) for txt in target_texts])\n",
    "\n",
    "print('Number of samples:', len(target_texts))\n",
    "print('Number of unique input tokens:', num_encoder_tokens)\n",
    "print('Number of unique output tokens:', num_decoder_tokens)\n",
    "print('Max sequence length for inputs:', max_encoder_seq_length)\n",
    "print('Max sequence length for outputs:', max_decoder_seq_length)\n",
    "    "
   ]
  },
  {
   "cell_type": "code",
   "execution_count": 4,
   "metadata": {},
   "outputs": [
    {
     "name": "stdout",
     "output_type": "stream",
     "text": [
      "11912\n"
     ]
    }
   ],
   "source": [
    "input_token_index = dict(\n",
    "    [(char, i) for i, char in enumerate(word_list)])\n",
    "target_token_index = dict(\n",
    "    [(char, i) for i, char in enumerate(target_list)])\n",
    "\n",
    "encoder_input_data = np.zeros(\n",
    "    (len(input_texts), max_encoder_seq_length, num_encoder_tokens),\n",
    "    dtype='float32')\n",
    "decoder_input_data = np.zeros(\n",
    "    (len(input_texts), max_decoder_seq_length, num_decoder_tokens),\n",
    "    dtype='float32')\n",
    "decoder_target_data = np.zeros(\n",
    "    (len(input_texts), max_decoder_seq_length, num_decoder_tokens),\n",
    "    dtype='float32')\n",
    "\n",
    "print(len(decoder_input_data[0][0]))"
   ]
  },
  {
   "cell_type": "code",
   "execution_count": 8,
   "metadata": {},
   "outputs": [],
   "source": [
    "\n",
    "for i, (input_text, target_text) in enumerate(zip(input_texts, target_texts)):\n",
    "    for t, word in enumerate(input_text.split()):\n",
    "        encoder_input_data[i, t, input_token_index[word]] = 1.\n",
    "    for t, word in enumerate(target_text.split()):\n",
    "        # decoder_target_data is ahead of decoder_input_data by one timestep\n",
    "        decoder_input_data[i, t, target_token_index[word]] = 1.\n",
    "        if t > 0:\n",
    "            # decoder_target_data will be ahead by one timestep\n",
    "            # and will not include the start character.\n",
    "            decoder_target_data[i, t - 1, target_token_index[word]] = 1."
   ]
  },
  {
   "cell_type": "code",
   "execution_count": 9,
   "metadata": {},
   "outputs": [
    {
     "name": "stdout",
     "output_type": "stream",
     "text": [
      "WARNING:tensorflow:From /Users/villi/Desktop/Projects/ChatBotAI/venv/lib/python3.6/site-packages/tensorflow/python/framework/op_def_library.py:263: colocate_with (from tensorflow.python.framework.ops) is deprecated and will be removed in a future version.\nInstructions for updating:\nColocations handled automatically by placer.\n"
     ]
    }
   ],
   "source": [
    "# Define an input sequence and process it.\n",
    "encoder_inputs = Input(shape=(None, num_encoder_tokens))\n",
    "encoder = LSTM(latent_dim, return_state=True)\n",
    "encoder_outputs, state_h, state_c = encoder(encoder_inputs)\n",
    "# We discard `encoder_outputs` and only keep the states.\n",
    "encoder_states = [state_h, state_c]"
   ]
  },
  {
   "cell_type": "code",
   "execution_count": 10,
   "metadata": {},
   "outputs": [],
   "source": [
    "# Set up the decoder, using `encoder_states` as initial state.\n",
    "decoder_inputs = Input(shape=(None, num_decoder_tokens))\n",
    "# We set up our decoder to return full output sequences,\n",
    "# and to return internal states as well. We don't use the\n",
    "# return states in the training model, but we will use them in inference.\n",
    "decoder_lstm = LSTM(latent_dim, return_sequences=True, return_state=True)\n",
    "decoder_outputs, _, _ = decoder_lstm(decoder_inputs,\n",
    "                                     initial_state=encoder_states)\n",
    "decoder_dense = Dense(num_decoder_tokens, activation='softmax')\n",
    "decoder_outputs = decoder_dense(decoder_outputs)"
   ]
  },
  {
   "cell_type": "code",
   "execution_count": 11,
   "metadata": {},
   "outputs": [],
   "source": [
    "# Define the model that will turn\n",
    "# `encoder_input_data` & `decoder_input_data` into `decoder_target_data`\n",
    "model = Model([encoder_inputs, decoder_inputs], decoder_outputs)"
   ]
  },
  {
   "cell_type": "code",
   "execution_count": 12,
   "metadata": {},
   "outputs": [
    {
     "name": "stdout",
     "output_type": "stream",
     "text": [
      "WARNING:tensorflow:From /Users/villi/Desktop/Projects/ChatBotAI/venv/lib/python3.6/site-packages/tensorflow/python/ops/math_ops.py:3066: to_int32 (from tensorflow.python.ops.math_ops) is deprecated and will be removed in a future version.\nInstructions for updating:\nUse tf.cast instead.\n"
     ]
    },
    {
     "name": "stdout",
     "output_type": "stream",
     "text": [
      "WARNING:tensorflow:From /Users/villi/Desktop/Projects/ChatBotAI/venv/lib/python3.6/site-packages/tensorflow/python/ops/math_grad.py:102: div (from tensorflow.python.ops.math_ops) is deprecated and will be removed in a future version.\nInstructions for updating:\nDeprecated in favor of operator or tf.math.divide.\n"
     ]
    },
    {
     "name": "stdout",
     "output_type": "stream",
     "text": [
      "Train on 5460 samples, validate on 1366 samples\nEpoch 1/1\n"
     ]
    }
   ],
   "source": [
    "# Run training\n",
    "model.compile(optimizer='rmsprop', loss='categorical_crossentropy')\n",
    "model.fit([encoder_input_data, decoder_input_data], decoder_target_data,\n",
    "          batch_size=batch_size,\n",
    "          epochs=epochs,\n",
    "          validation_split=0.2)\n",
    "# Save model\n",
    "model.save('s2s.h5')\n",
    "print(\"=================\")\n",
    "print(\"DONE\")"
   ]
  },
  {
   "cell_type": "code",
   "execution_count": 11,
   "metadata": {},
   "outputs": [],
   "source": []
  },
  {
   "cell_type": "code",
   "execution_count": 11,
   "metadata": {},
   "outputs": [],
   "source": []
  },
  {
   "cell_type": "code",
   "execution_count": null,
   "metadata": {},
   "outputs": [],
   "source": [
    "# Define an input sequence and process it.\n",
    "encoder_inputs = Input(shape=(None,))\n",
    "x = Embedding(num_encoder_tokens, latent_dim)(encoder_inputs)\n",
    "x, state_h, state_c = LSTM(latent_dim,\n",
    "                           return_state=True)(x)\n",
    "encoder_states = [state_h, state_c]\n",
    "\n",
    "\n",
    "\n",
    "# Set up the decoder, using `encoder_states` as initial state.\n",
    "decoder_inputs = Input(shape=(None,))\n",
    "# We set up our decoder to return full output sequences,\n",
    "# and to return internal states as well. We don't use the\n",
    "# return states in the training model, but we will use them in inference.\n",
    "x = Embedding(num_decoder_tokens, latent_dim)(decoder_inputs)\n",
    "x = LSTM(latent_dim, return_sequences=True)(x, initial_state=encoder_states)\n",
    "decoder_outputs = Dense(num_decoder_tokens, activation='softmax')(x)\n",
    "\n",
    "\n",
    "\n",
    "# Define the model that will turn\n",
    "# `encoder_input_data` & `decoder_input_data` into `decoder_target_data`\n",
    "model = Model([encoder_inputs, decoder_inputs], decoder_outputs)\n",
    "\n",
    "\n",
    "\n",
    "# Compile & run training\n",
    "model.compile(optimizer='rmsprop', loss='categorical_crossentropy')\n",
    "# Note that `decoder_target_data` needs to be one-hot encoded,\n",
    "# rather than sequences of integers like `decoder_input_data`!\n",
    "\n",
    "\n",
    "model.fit([encoder_input_data, decoder_input_data], decoder_target_data,\n",
    "          batch_size=batch_size,\n",
    "          epochs=epochs,\n",
    "          validation_split=0.2)\n",
    "\n",
    "# Save model\n",
    "model.save('s2s.h5')"
   ]
  },
  {
   "cell_type": "code",
   "execution_count": 11,
   "metadata": {},
   "outputs": [],
   "source": [
    ""
   ]
  },
  {
   "cell_type": "code",
   "execution_count": 11,
   "metadata": {},
   "outputs": [],
   "source": []
  },
  {
   "cell_type": "code",
   "execution_count": 11,
   "metadata": {},
   "outputs": [],
   "source": []
  },
  {
   "cell_type": "code",
   "execution_count": 11,
   "metadata": {},
   "outputs": [],
   "source": []
  },
  {
   "cell_type": "code",
   "execution_count": 11,
   "metadata": {},
   "outputs": [],
   "source": []
  },
  {
   "cell_type": "code",
   "execution_count": 11,
   "metadata": {},
   "outputs": [],
   "source": []
  },
  {
   "cell_type": "code",
   "execution_count": 11,
   "metadata": {},
   "outputs": [],
   "source": []
  },
  {
   "cell_type": "code",
   "execution_count": 11,
   "metadata": {},
   "outputs": [],
   "source": []
  },
  {
   "cell_type": "code",
   "execution_count": 11,
   "metadata": {},
   "outputs": [],
   "source": []
  },
  {
   "cell_type": "code",
   "execution_count": 11,
   "metadata": {},
   "outputs": [],
   "source": []
  },
  {
   "cell_type": "code",
   "execution_count": 11,
   "metadata": {},
   "outputs": [],
   "source": []
  },
  {
   "cell_type": "code",
   "execution_count": 11,
   "metadata": {},
   "outputs": [],
   "source": []
  },
  {
   "cell_type": "code",
   "execution_count": 11,
   "metadata": {},
   "outputs": [],
   "source": []
  },
  {
   "cell_type": "code",
   "execution_count": null,
   "metadata": {},
   "outputs": [],
   "source": []
  }
 ],
 "metadata": {
  "kernelspec": {
   "display_name": "Python 2",
   "language": "python",
   "name": "python2"
  },
  "language_info": {
   "codemirror_mode": {
    "name": "ipython",
    "version": 2
   },
   "file_extension": ".py",
   "mimetype": "text/x-python",
   "name": "python",
   "nbconvert_exporter": "python",
   "pygments_lexer": "ipython2",
   "version": "2.7.6"
  }
 },
 "nbformat": 4,
 "nbformat_minor": 0
}
